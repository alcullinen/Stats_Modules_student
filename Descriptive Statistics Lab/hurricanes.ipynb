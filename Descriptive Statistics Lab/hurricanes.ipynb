{
 "cells": [
  {
   "cell_type": "code",
   "execution_count": null,
   "id": "7af29a31",
   "metadata": {
    "deletable": false,
    "editable": false
   },
   "outputs": [],
   "source": [
    "# Initialize Otter\n",
    "import otter\n",
    "grader = otter.Notebook(\"hurricanes.ipynb\")"
   ]
  },
  {
   "cell_type": "markdown",
   "id": "d92a1e6c",
   "metadata": {},
   "source": [
    "# Are Female Hurricanes Deadlier than Male Hurricanes?\n",
    "\n",
    "### Applying Data Visualizations and Numerical Summaries\n",
    "\n",
    "In this lab assignment, we will work with data from a study published in the peer-reviewed journal PNAS.  Using descriptive statistical techniques we have learned in class, we will evaluate the claims made in [this article](https://www.pnas.org/doi/full/10.1073/pnas.1402786111) titled *Female hurricanes are deadlier than male hurricanes* by Jung, Shavitt et al.  First, let's start with a brief introduction to this notebook."
   ]
  },
  {
   "cell_type": "markdown",
   "id": "ce5624f5",
   "metadata": {},
   "source": [
    "## Part 1. What is a Jupyter notebook?\n",
    "This webpage is called a Jupyter notebook. A notebook is a place to write code and view the results of that code.  It is also a place to share and write text.\n",
    "In a notebook, each rectangle containing text or code is called a *cell*.\n",
    "\n",
    "**Text cells** (like this one) can be edited by double-clicking on them. They're written in a simple format called [Markdown](http://daringfireball.net/projects/markdown/syntax) to add formatting and section headings.\n",
    "After you edit a text cell, click the \"run cell\" button at the top that looks like ▶| or hold down `shift` + `return` to confirm any changes. \n",
    "\n",
    "**Code cells** contain code in the Python 3 language. Running a code cell will execute all of the code it contains.\n",
    "To run the code in a code cell, first click on that cell to activate it.  It'll be highlighted with a little green or blue rectangle.  Next, either press ▶| or hold down `shift` + `return`."
   ]
  },
  {
   "cell_type": "markdown",
   "id": "00fc33be",
   "metadata": {},
   "source": [
    "**Activity 1:** This is a text cell. It is the cell type where we can type text that isn't code. Go ahead and double click in this cell and you will see that you can edit it. \n",
    "\n",
    "**Type something here:** ...."
   ]
  },
  {
   "cell_type": "markdown",
   "id": "daee840c",
   "metadata": {},
   "source": [
    "**Activity 2:** Click on the code cell below and run the code:"
   ]
  },
  {
   "cell_type": "code",
   "execution_count": null,
   "id": "4ed5c66e",
   "metadata": {},
   "outputs": [],
   "source": [
    "#This cell is a code cell. It is where we can type code that can be executed.\n",
    "#The hashtag at the start of this line makes it so that this text is a comment not code. \n",
    "\n",
    "print(\"Hello, World! \\N{EARTH GLOBE ASIA-AUSTRALIA}!\")"
   ]
  },
  {
   "cell_type": "markdown",
   "id": "768ecfdd",
   "metadata": {},
   "source": [
    "And this one:"
   ]
  },
  {
   "cell_type": "code",
   "execution_count": null,
   "id": "b6ab6cf5",
   "metadata": {},
   "outputs": [],
   "source": [
    "# This coding cell imports some python libraries that we will be using throughout this notebook\n",
    "# Don't worry about what they are, just run this cell before running any other cells below this one\n",
    "\n",
    "from datascience import *\n",
    "import matplotlib.pyplot as plt\n",
    "import pandas as pd\n",
    "import numpy as np\n",
    "import otter\n",
    "grader = otter.Notebook(\"hurricanes.ipynb\")\n",
    "\n",
    "%matplotlib inline\n",
    "import matplotlib.pyplot as plt\n",
    "plt.style.use('fivethirtyeight')"
   ]
  },
  {
   "cell_type": "markdown",
   "id": "2fc09224",
   "metadata": {},
   "source": [
    "# Part 2: Summary Statistics\n",
    "We will start by loading the data and taking a look at the data matrix provided as documentation in the study.  In the *Materials and Methods* section of [the paper](https://www.pnas.org/doi/full/10.1073/pnas.1402786111), the researchers disclose that they \"removed two hurricanes, Katrina in 2005 (1833 deaths) and Audrey in 1957 (416 deaths)\" from this dataset. The first line of code sets the name `hurricanes_data` to the table that contains the data.  The second line of code displays the first 10 observations of the dataset."
   ]
  },
  {
   "cell_type": "code",
   "execution_count": null,
   "id": "ac908cd7",
   "metadata": {},
   "outputs": [],
   "source": [
    "hurricanes_data = Table.read_table('hurricanes1950_2012.csv')\n",
    "hurricanes_data"
   ]
  },
  {
   "cell_type": "markdown",
   "id": "9373341e",
   "metadata": {},
   "source": [
    "**Question 2.1** What is the total number of observations in this dataset?  How many variables are there?\n",
    "- Set `num_observations` to the total number of observations \n",
    "- Set `num_variables` to the total number of variables."
   ]
  },
  {
   "cell_type": "code",
   "execution_count": null,
   "id": "bac671af",
   "metadata": {
    "tags": [
     "otter_answer_cell"
    ]
   },
   "outputs": [],
   "source": [
    "#replace the ... with the correct answer\n",
    "num_observations = ...\n",
    "num_variables = ..."
   ]
  },
  {
   "cell_type": "markdown",
   "id": "23bd3076",
   "metadata": {},
   "source": [
    "For this lab, we will focus on two of the variables: `Gender_MF` and `alldeaths`.  Run the next code cell without making any changes so we can:\n",
    "1. Make two tables from that table, one with observations where the variable `Gender_MF` is *female* and one where the variable `Gender_MF` is *male*.\n",
    "2. Produce summary statistics for the variable `alldeaths` for both tables.\n"
   ]
  },
  {
   "cell_type": "code",
   "execution_count": null,
   "id": "488ea1d0",
   "metadata": {},
   "outputs": [],
   "source": [
    "# Just run this cell\n",
    "# Step 1: make 2 tables\n",
    "female = hurricanes_data.where('Gender_MF', 'Female')\n",
    "male = hurricanes_data.where('Gender_MF', 'Male')\n",
    "# Step 2: summary statistics - start by making arrays\n",
    "deaths_f = female.column('alldeaths')\n",
    "deaths_m = male.column('alldeaths')\n",
    "# sample sizes\n",
    "n_f = len(deaths_f)\n",
    "n_m = len(deaths_m)\n",
    "# means\n",
    "mean_f = np.mean(deaths_f)\n",
    "mean_m = np.mean(deaths_m)\n",
    "# mins\n",
    "min_f = np.min(deaths_f)\n",
    "min_m = np.min(deaths_m)\n",
    "# first quartiles\n",
    "q1_f = percentile(25, deaths_f)\n",
    "q1_m = percentile(25, deaths_m)\n",
    "# second quartiles\n",
    "q2_f = percentile(50, deaths_f)\n",
    "q2_m = percentile(50, deaths_m)\n",
    "# third quartiles\n",
    "q3_f = percentile(75, deaths_f)\n",
    "q3_m = percentile(75, deaths_m)\n",
    "# max\n",
    "max_f = np.max(deaths_f)\n",
    "max_m = np.max(deaths_m)\n",
    "# standard deviations\n",
    "sd_f = np.std(deaths_f)\n",
    "sd_m = np.std(deaths_m)\n",
    "# display summary stats\n",
    "print('Female-named hurricanes')\n",
    "print('n = ', n_f, ' mean = ', mean_f, ' min = ', min_f, \n",
    "      ' Q1 = ', q1_f, ' Q2 = ', q2_f, ' Q3 = ', q3_f, \n",
    "      ' max = ', max_f, ' std dev = ', sd_f) \n",
    "print('Male-named hurricanes')\n",
    "print('n = ', n_m, ' mean = ', mean_m, ' min = ', min_m, \n",
    "      ' Q1 = ', q1_m, ' Q2 = ', q2_m, ' Q3 = ', q3_m, \n",
    "      ' max = ', max_m, ' std dev = ', sd_m) \n"
   ]
  },
  {
   "cell_type": "markdown",
   "id": "5894f5ef",
   "metadata": {},
   "source": [
    "### Measures of Center\n",
    "We use measures of center to determine what is a **\"typical\"** observation for a particular variable.  Measures of center also give us a starting point for comparing two or more groups. The choice of what measure of center is most appropriate depends on the data.  "
   ]
  },
  {
   "cell_type": "markdown",
   "id": "dd3827d8",
   "metadata": {},
   "source": [
    "**Question 2.2** For each group, we want to compare the measures of center presented in the summary statistics.  We need to determine whether:\n",
    "1. The mean is greater than the median.\n",
    "2. The mean is less than the median.\n",
    "3. The mean and the median are equal or close in value. \n",
    "- Set `center_female` and `center_male` to either 1, 2 or 3 based on what you observe in the summary statistics."
   ]
  },
  {
   "cell_type": "code",
   "execution_count": null,
   "id": "a19a64ce",
   "metadata": {
    "tags": [
     "otter_answer_cell"
    ]
   },
   "outputs": [],
   "source": [
    "center_female = ...\n",
    "center_male = ..."
   ]
  },
  {
   "cell_type": "markdown",
   "id": "8cbf48fc",
   "metadata": {},
   "source": [
    "**Question 2.3** What can your answers to the last question tell us about the likely shape of the distribution?  Based on the values for the mean and median for both the female-named and male-named hurricanes, the likely shape of both distributions is:\n",
    "1. Symmetric\n",
    "2. Right-skewed\n",
    "3. Left-skewed\n",
    "- Set `shape` to either 1, 2 or 3 based on your choice from the list above."
   ]
  },
  {
   "cell_type": "code",
   "execution_count": null,
   "id": "bc3d51ca",
   "metadata": {
    "tags": [
     "otter_answer_cell"
    ]
   },
   "outputs": [],
   "source": [
    "shape = ..."
   ]
  },
  {
   "cell_type": "markdown",
   "id": "68207df5",
   "metadata": {},
   "source": [
    "**Question 2.4** Compare the median numbers of deaths for each group and the mean numbers of deaths for each group.  \n",
    "1. What are the medians equal to for each group? If we use the medians, does one group typically have more deaths? If so, which one?  \n",
    "2. What are the means equal to for each group? If we use the means, does one group typically have more deaths? If so, which one? \n",
    " \n",
    "**Double click on the cell below to edit the cell and answer this question. Make sure to answer all parts to this question.**"
   ]
  },
  {
   "cell_type": "markdown",
   "id": "27b563d4",
   "metadata": {
    "tags": [
     "otter_answer_cell"
    ]
   },
   "source": [
    "_Type your answer here, replacing this text._"
   ]
  },
  {
   "cell_type": "markdown",
   "id": "7d684876",
   "metadata": {
    "deletable": false,
    "editable": false
   },
   "source": [
    "<!-- END QUESTION -->\n",
    "\n",
    "### Measures of Variability\n",
    "In addition to learning what is **\"typical\"** for a variable, we also need to know what variability or spread to expect for that variable.  We use measures of variability for this.  The standard deviation is listed in the summary statistics above and we can compute the other three measures of variability.  Run the code cell below to see those summary statistics again.  You will use those to complete question 2.5."
   ]
  },
  {
   "cell_type": "code",
   "execution_count": null,
   "id": "dc70109f",
   "metadata": {},
   "outputs": [],
   "source": [
    "# Just run this cell\n",
    "print('Female-named hurricanes')\n",
    "print('n = ', n_f, ' mean = ', mean_f, ' min = ', min_f, ' Q1 = ', q1_f, ' Q2 = ', q2_f, ' Q3 = ', q3_f, ' max = ', max_f, ' std dev = ', sd_f) \n",
    "print('Male-named hurricanes')\n",
    "print('n = ', n_m, ' mean = ', mean_m, ' min = ', min_m, ' Q1 = ', q1_m, ' Q2 = ', q2_m, ' Q3 = ', q3_m, ' max = ', max_m, ' std dev = ', sd_m) "
   ]
  },
  {
   "cell_type": "markdown",
   "id": "cfd85fe8",
   "metadata": {},
   "source": [
    "**Question 2.5** Compute the IQR, range and variance for the variable `alldeaths` for both the female-named and male-named hurricanes and set the corresponding names in the code cell to the correct values. Names ending in \"_f\" correspond to the statistics for the female-named hurricantes and names ending in \"_m\" correspond to the statistics for the male-named hurricantes  You can add a code cell after this markdown cell to have a place to do calculations if you would like."
   ]
  },
  {
   "cell_type": "code",
   "execution_count": null,
   "id": "9d30abbc",
   "metadata": {
    "tags": [
     "otter_answer_cell"
    ]
   },
   "outputs": [],
   "source": [
    "# Compute the IQRs. \n",
    "iqr_f = ...\n",
    "iqr_m = ...\n",
    "# Compute the ranges\n",
    "range_f = ...\n",
    "range_m = ...\n",
    "# Compute the variances and round to the nearest whole number.\n",
    "variance_f = ...\n",
    "variance_m = ...\n",
    "# Don't change the code below this comment.\n",
    "print(f'Measures of variability for female-named hurricanes: IQR = {iqr_f}, range = {range_f}, variance = {variance_f}')\n",
    "print(f'Measures of variability for male-named hurricanes: IQR = {iqr_m}, range = {range_m}, variance = {variance_m}')"
   ]
  },
  {
   "cell_type": "markdown",
   "id": "201b3376",
   "metadata": {},
   "source": [
    "### Finding Outliers\n",
    "What do you notice about the different measures of variability and how they compare between the two groups?  How do we decide which one best represents the variability for this dataset?  In addition to considering the shape of the distribution of the variable `alldeaths`, we should also determine whether there are outliers.   We do this by calculating the lower and upper fences, which are also known as the minimun and maximum whisker reaches, respectively.  When we build boxplots with numerical data, this is how we determine how far the whiskers could reach before marking observations as outliers.  In the next problem, you will calculate the lower and upper fences for the variable `alldeaths` for the female and male named hurricanes."
   ]
  },
  {
   "cell_type": "markdown",
   "id": "b34f4443",
   "metadata": {},
   "source": [
    "Lower Fence:\n",
    "$$ Q1 - 1.5 \\times IQR $$\n",
    "Upper Fence:\n",
    "$$ Q3 + 1.5 \\times IQR $$"
   ]
  },
  {
   "cell_type": "markdown",
   "id": "d7a523ea",
   "metadata": {},
   "source": [
    "**Question 2.6** Compute the lower and upper fences for both the female-named and male-named huricanes.  "
   ]
  },
  {
   "cell_type": "code",
   "execution_count": null,
   "id": "80801ffd",
   "metadata": {
    "tags": [
     "otter_answer_cell"
    ]
   },
   "outputs": [],
   "source": [
    "# Lower Fences\n",
    "lower_fence_f = ...\n",
    "lower_fence_m = ...\n",
    "# Upper Fences\n",
    "upper_fence_f = ...\n",
    "upper_fence_m = ...\n",
    "# Don't change the code below this comment.\n",
    "print(f'Female-named hurricanes: lower fence = {lower_fence_f}, upper fence = {upper_fence_f}')\n",
    "print(f'Male-named hurricanes: lower fence = {lower_fence_m}, upper fence = {upper_fence_m}')"
   ]
  },
  {
   "cell_type": "markdown",
   "id": "198eca66",
   "metadata": {},
   "source": [
    "**A Negative Number of Deaths?!** \n",
    "Pause here for a second and think about what it means for the lower fence to be a negative number.  Does it make sense in this context for the lower fence to be negative?  Can we have a negative number of deaths?   Sometimes we see this in the data, where there is a natural boundary for the observations to stop.  When this happens, it is often further proof that there is skew in the data."
   ]
  },
  {
   "cell_type": "markdown",
   "id": "a7aefba7",
   "metadata": {},
   "source": [
    "**Question 2.7** What is the smallest number of deaths that could happen during a hurricane event?  In other words, what is the natural boundary for this variable? Set `natural_min` to this value.  *Hint: what is the min for each group?*"
   ]
  },
  {
   "cell_type": "code",
   "execution_count": null,
   "id": "9b1216af",
   "metadata": {
    "tags": [
     "otter_answer_cell"
    ]
   },
   "outputs": [],
   "source": [
    "natural_min = ..."
   ]
  },
  {
   "cell_type": "markdown",
   "id": "c618d7d6",
   "metadata": {},
   "source": [
    "**How many outliers are there?** Since the lower fence is less than the min for both groups, we know there are not any outliers on the lower end of the data.  What about on the upper end? The code in the next two cells will help us determine how many outliers there are for both groups. "
   ]
  },
  {
   "cell_type": "code",
   "execution_count": null,
   "id": "9fc357d0",
   "metadata": {},
   "outputs": [],
   "source": [
    "# Just run this cell\n",
    "female.where('alldeaths', are.above(upper_fence_f))"
   ]
  },
  {
   "cell_type": "code",
   "execution_count": null,
   "id": "3d2618fb",
   "metadata": {},
   "outputs": [],
   "source": [
    "# Just run this cell\n",
    "male.where('alldeaths', are.above(upper_fence_m))"
   ]
  },
  {
   "cell_type": "markdown",
   "id": "bf0e661f",
   "metadata": {},
   "source": [
    "**Question 2.8**  How many outliers are there for the female-named hurricanes?  How many outliers for the male-named hurricanes?  Set `outliers_f` and `outliers_m` equal to the correct values."
   ]
  },
  {
   "cell_type": "code",
   "execution_count": null,
   "id": "4e62936a",
   "metadata": {
    "tags": [
     "otter_answer_cell"
    ]
   },
   "outputs": [],
   "source": [
    "outliers_f = ...\n",
    "outliers_m = ..."
   ]
  },
  {
   "cell_type": "markdown",
   "id": "7d928750",
   "metadata": {},
   "source": [
    "### Effect of Outliers on Sample Statistics\n",
    "Outliers are observations that are extreme with respect to the rest of the data. They also have a bigger impact on some summary statistics than others.  Below, we will demonstrate the impact of those outliers on this dataset, but in general, just removing outliers without investigating them further is not good practice.  In fact, studying outliers helps us learn more about our data, like whether there has been an issue with data collection of it there is something we didn't fully understand about our data before collecting it.  \n"
   ]
  },
  {
   "cell_type": "code",
   "execution_count": null,
   "id": "6b6b1200",
   "metadata": {},
   "outputs": [],
   "source": [
    "# Just run this cell\n",
    "# Step 1: new tables without outliers\n",
    "female_no_outliers = female.where('alldeaths', are.below_or_equal_to(upper_fence_f))\n",
    "male_no_outliers = male.where('alldeaths', are.below_or_equal_to(upper_fence_m))\n",
    "# Step 2: summary statistics - start by making arrays\n",
    "deaths_f2 = female_no_outliers.column('alldeaths')\n",
    "deaths_m2 = male_no_outliers.column('alldeaths')\n",
    "# means\n",
    "mean_f2 = np.mean(deaths_f2)\n",
    "mean_m2 = np.mean(deaths_m2)\n",
    "# first quartiles\n",
    "q1_f2 = percentile(25, deaths_f2)\n",
    "q1_m2 = percentile(25, deaths_m2)\n",
    "# second quartiles\n",
    "q2_f2 = percentile(50, deaths_f2)\n",
    "q2_m2 = percentile(50, deaths_m2)\n",
    "# third quartiles\n",
    "q3_f2 = percentile(75, deaths_f2)\n",
    "q3_m2 = percentile(75, deaths_m2)\n",
    "# standard deviations\n",
    "sd_f2 = np.std(deaths_f2)\n",
    "sd_m2 = np.std(deaths_m2)"
   ]
  },
  {
   "cell_type": "code",
   "execution_count": null,
   "id": "6d65b189",
   "metadata": {},
   "outputs": [],
   "source": [
    "# Just run this cell\n",
    "print('Summary Statistics with Outliers')\n",
    "print('Female-named hurricanes')\n",
    "print( ' mean = ', mean_f, ' Q1 = ', q1_f, ' Q2 = ', q2_f, ' Q3 = ', q3_f,  ' std dev = ', sd_f) \n",
    "print('Male-named hurricanes')\n",
    "print( ' mean = ', mean_m,  ' Q1 = ', q1_m, ' Q2 = ', q2_m, ' Q3 = ', q3_m, ' std dev = ', sd_m) \n",
    "print('                  ')\n",
    "print('Summary Statistics without Outliers')\n",
    "print('Female-named hurricanes')\n",
    "print( ' mean = ', mean_f2, ' Q1 = ', q1_f2, ' Q2 = ', q2_f2, ' Q3 = ', q3_f2,  ' std dev = ', sd_f2) \n",
    "print('Male-named hurricanes')\n",
    "print( ' mean = ', mean_m2,  ' Q1 = ', q1_m2, ' Q2 = ', q2_m2, ' Q3 = ', q3_m2, ' std dev = ', sd_m2) "
   ]
  },
  {
   "cell_type": "markdown",
   "id": "314ed06b",
   "metadata": {},
   "source": [
    "**Question 2.9** After the outliers were removed, which *two* statstics changed the least of all of the summary statistics?  Use the summary statistics above from before and after the outliers were removed and set `robust` to the correct choice from the list below.  \n",
    "1. The mean and median changed the least.\n",
    "2. The mean and standard deviation changed the least.\n",
    "3. The standard deviation and the range changed the least.\n",
    "4. The standard deviation and the IQR changed the least. \n",
    "5. The IQR and the median changed the least."
   ]
  },
  {
   "cell_type": "code",
   "execution_count": null,
   "id": "c7ea7379",
   "metadata": {
    "tags": [
     "otter_answer_cell"
    ]
   },
   "outputs": [],
   "source": [
    "robust = ..."
   ]
  },
  {
   "cell_type": "markdown",
   "id": "1234e4b5",
   "metadata": {},
   "source": [
    "# Part 3: Visualizations \n",
    "Now we will create some data visualizations to learn more about this dataset.  Run the next cell to create a histogram of the variable `alldeaths`."
   ]
  },
  {
   "cell_type": "code",
   "execution_count": null,
   "id": "8803e00a",
   "metadata": {},
   "outputs": [],
   "source": [
    "# Just run this cell\n",
    "hurricanes_data.hist('alldeaths',  bins = np.arange(0, 261, 10), unit = \"number of deaths\")"
   ]
  },
  {
   "cell_type": "markdown",
   "id": "50197916",
   "metadata": {},
   "source": [
    "Take a look at the histogram above. Does the shape of distribution of the numerical variable `alldeaths` confirm your answer to question 2.3 earlier in the lab?  What do you notice about the horizontal axis?  What about the vertical axis?"
   ]
  },
  {
   "cell_type": "markdown",
   "id": "5d8fc39e",
   "metadata": {},
   "source": [
    "The width of each bin is specified to be 10 in the code above.  The `hist` method we used to make the histogram above uses the convention that each bin includes the data at the left endpoint of the bin, but not the right endpoint.  This means that the first bin on the left hand side includes observations where there were 0 deaths that occured, but does not include observations where there were 10 deaths."
   ]
  },
  {
   "cell_type": "markdown",
   "id": "7c174b92",
   "metadata": {},
   "source": [
    "The vertical axis is a density scale and the height of each bin is the percent of observations that fall into that bin, relative to the bin width.  This means that the percent of all observations that are in each bin is found by multiplying the width of each bin by the height of each bin.  This also means that the total area of all the bars in this histogram is 100%."
   ]
  },
  {
   "cell_type": "markdown",
   "id": "2d14cc02",
   "metadata": {},
   "source": [
    "$$ \\text{area of bar} = \\text{percent of observations in bin} = \\text{height of bar}\\times\\text{width of bin} $$"
   ]
  },
  {
   "cell_type": "markdown",
   "id": "4af12211",
   "metadata": {},
   "source": [
    "**Question 3.1** If the height of the first bin on the left is 6.3 percent per number of deaths, what percent of the hurricanes in this dataset had less than 10 deaths? Set `under_10` to the correct percentage *without* the % sign."
   ]
  },
  {
   "cell_type": "code",
   "execution_count": null,
   "id": "1a5e4ec0",
   "metadata": {
    "tags": [
     "otter_answer_cell"
    ]
   },
   "outputs": [],
   "source": [
    "under_10 = ..."
   ]
  },
  {
   "cell_type": "markdown",
   "id": "d1518416",
   "metadata": {},
   "source": [
    "The next code cell will create side-by-side boxplots.  Run the cell and look closely at the output."
   ]
  },
  {
   "cell_type": "code",
   "execution_count": null,
   "id": "4d860f9a",
   "metadata": {},
   "outputs": [],
   "source": [
    "# Just run this cell\n",
    "f = pd.DataFrame({'female-named':deaths_f})\n",
    "m = pd.DataFrame({'male-named':deaths_m})\n",
    "df = pd.concat([f, m], axis = 1) \n",
    "df.boxplot()"
   ]
  },
  {
   "cell_type": "markdown",
   "id": "ec036748",
   "metadata": {},
   "source": [
    "Looking at these boxplots should confirm what you learned from the numerical summaries from earlier in this lab.  Notice on the graph where the upper fences would be for each boxplot.  The whiskers should stop at or below what you calculated for both graphs.  Also notice how many outliers you can see.  This should also align with what you found earlier in this lab.  "
   ]
  },
  {
   "cell_type": "markdown",
   "id": "bfab1870",
   "metadata": {},
   "source": [
    "**Question 3.2** Use what you have learned in this lab so far about the shape of the distribution of this variable and the presence of outliers to determine what the most appropriate measures of center and variability are.  Assign `summary_stats` to the best answer from the choices below.\n",
    "1. The most appropriate measure of center is the mean and the most appropriate measure of variability is the standard deviation because the distribution is skewed and there are outliers.\n",
    "2. The most appropriate measure of center is the mean and the most appropriate measure of variability is the standard deviation because the distribution is symmetric.\n",
    "3. The most appropriate measure of center is the median and the most appropriate measure of variability is the IQR because the distribution is symmetric.\n",
    "4. The most appropriate measure of center is the median and the most appropriate measure of variability is the IQR because the distribution is skewed and there are outliers.\n",
    "5. The most appropriate measure of center is the mean because it includes all the values and the most appropriate measure of variability is the standard deviation because it is computed by using the mean."
   ]
  },
  {
   "cell_type": "code",
   "execution_count": null,
   "id": "74be831b",
   "metadata": {
    "tags": [
     "otter_answer_cell"
    ]
   },
   "outputs": [],
   "source": [
    "summary_stats = ..."
   ]
  },
  {
   "cell_type": "markdown",
   "id": "9d1cda4c",
   "metadata": {},
   "source": [
    "# Part 4: The Impact of Hurricane Naming History on the Data\n",
    "From 1953 until 1978, the United States only used female names for storms.  According to NOAA's [Tropical Cyclone Naming History and Retired Names](https://www.nhc.noaa.gov/aboutnames_history.shtml), it wasn't until the year 1979 that male and female names were both used.  In the next coding cell, we will make a subset of the data that only includes hurricanes from 1979 through 2012.  Then we will make a new data visualization to compare the two groups.\n"
   ]
  },
  {
   "cell_type": "code",
   "execution_count": null,
   "id": "ccfc372c",
   "metadata": {},
   "outputs": [],
   "source": [
    "# Just run this cell\n",
    "# Step 1: create table where the year is greater than 1978\n",
    "after_1978 = hurricanes_data.where('Year', are.above(1978))\n",
    "# Step 2: create tables for female and male names\n",
    "female_1979 = after_1978.where('Gender_MF', 'Female')\n",
    "male_1979 = after_1978.where('Gender_MF', 'Male')\n",
    "# Code for making a boxplot using pandas\n",
    "f2 = pd.DataFrame({'female-named':female_1979.column('alldeaths')})\n",
    "m2 = pd.DataFrame({'male-named':male_1979.column('alldeaths')})\n",
    "df2 = pd.concat([f2, m2], axis = 1) \n",
    "print('Deaths from Hurricanes 1979 - 2012')\n",
    "df2.boxplot()"
   ]
  },
  {
   "cell_type": "markdown",
   "id": "3b71e664",
   "metadata": {},
   "source": [
    "What do you notice about the two boxplots?  Which one has the bigger IQR?  How do the medians compare?  Can you guess which one might have the larger mean and standard deviation?  Run the next cell to see the corresponding summary statistics for this data.  "
   ]
  },
  {
   "cell_type": "code",
   "execution_count": null,
   "id": "06ecee2b",
   "metadata": {},
   "outputs": [],
   "source": [
    "# Just run this cell to see summary statistics\n",
    "# Create arrays of just one variable\n",
    "deaths_f_1979 = female_1979.column('alldeaths')\n",
    "deaths_m_1979 = male_1979.column('alldeaths')\n",
    "# sample sizes\n",
    "n_f_1979 = len(deaths_f_1979)\n",
    "n_m_1979 = len(deaths_m_1979)\n",
    "# means\n",
    "mean_f_1979 = np.mean(deaths_f_1979)\n",
    "mean_m_1979 = np.mean(deaths_m_1979)\n",
    "# mins\n",
    "min_f_1979 = np.min(deaths_f_1979)\n",
    "min_m_1979 = np.min(deaths_m_1979)\n",
    "# first quartiles\n",
    "q1_f_1979 = percentile(25, deaths_f_1979)\n",
    "q1_m_1979 = percentile(25, deaths_m_1979)\n",
    "# second quartiles\n",
    "q2_f_1979 = percentile(50, deaths_f_1979)\n",
    "q2_m_1979 = percentile(50, deaths_m_1979)\n",
    "# third quartiles\n",
    "q3_f_1979 = percentile(75, deaths_f_1979)\n",
    "q3_m_1979 = percentile(75, deaths_m_1979)\n",
    "# max\n",
    "max_f_1979 = np.max(deaths_f_1979)\n",
    "max_m_1979 = np.max(deaths_m_1979)\n",
    "# standard deviations\n",
    "sd_f_1979 = np.std(deaths_f_1979)\n",
    "sd_m_1979 = np.std(deaths_m_1979)\n",
    "# display summary stats\n",
    "print('Female-named hurricanes, 1979 - 2012')\n",
    "print('n = ', n_f_1979, ' mean = ', mean_f_1979, ' min = ', min_f_1979,\n",
    "      ' Q1 = ', q1_f_1979, ' Q2 = ', q2_f_1979, ' Q3 = ', q3_f_1979, \n",
    "      ' max = ', max_f_1979, ' std dev = ', sd_f_1979) \n",
    "print('Male-named hurricanes, 1979 - 2012')\n",
    "print('n = ', n_m_1979, ' mean = ', mean_m_1979, ' min = ', min_m_1979, \n",
    "      ' Q1 = ', q1_m_1979, ' Q2 = ', q2_m_1979, ' Q3 = ', q3_m_1979, \n",
    "      ' max = ', max_m_1979, ' std dev = ', sd_m_1979) "
   ]
  },
  {
   "cell_type": "markdown",
   "id": "27a6de6b",
   "metadata": {},
   "source": [
    "**Question 4.1** Using the boxplots and the summary statistics above, answer the following questions in the markdown cell below.  \n",
    "1. What are the medians equal to?  If we use the medians to compare the two groups, does one group typically have more deaths? If so, which one?  \n",
    "2. What are the means equal to? If we use the means, does one group typically have more deaths? If so, which one? \n",
    "3. What are the IQRs equal to?  If we use the IQRs to compare the two groups, is the variability greater for one group than the other? If so, which one? \n",
    "4. What are the standard deviations equal to?  If we use the sds to compare the two groups, is the variability greater for one group than the other? If so, which one?"
   ]
  },
  {
   "cell_type": "markdown",
   "id": "d811016e",
   "metadata": {
    "tags": [
     "otter_answer_cell"
    ]
   },
   "source": [
    "_Type your answer here, replacing this text._"
   ]
  },
  {
   "cell_type": "markdown",
   "id": "2fa52f87",
   "metadata": {
    "deletable": false,
    "editable": false
   },
   "source": [
    "<!-- END QUESTION -->\n",
    "\n",
    "### One more look at the impact of outliers \n",
    "Look back up at the side by side boxplot of the 1979 - 2012 data.  How do you think the presence of the outlier that has the highest number of deaths impacts the mean?  Let's investigate.  In the next cell, we will identify this hurricane by name.  "
   ]
  },
  {
   "cell_type": "code",
   "execution_count": null,
   "id": "13f699a3",
   "metadata": {},
   "outputs": [],
   "source": [
    "# Just run this cell\n",
    "most_deaths = after_1978.where('alldeaths', are.above(100)).column('Name').item(0)\n",
    "print('The hurricane that had the highest number of deaths was Hurricane', most_deaths, '.')"
   ]
  },
  {
   "cell_type": "markdown",
   "id": "7570486d",
   "metadata": {},
   "source": [
    "**Do a quick search of this Hurricane's name on the internet.** How did this hurricane compare to other Atlantic storms recorded to date?  Let's see the impact of this outlier on the mean.  Run the next cell."
   ]
  },
  {
   "cell_type": "code",
   "execution_count": null,
   "id": "6036ac31",
   "metadata": {},
   "outputs": [],
   "source": [
    "# Just run this cell. \n",
    "mean_f_1979_2 = np.mean(after_1978.where('alldeaths', are.below(100)).where('Gender_MF', 'Female').column('alldeaths'))\n",
    "mean_m_1979_2 = np.mean(after_1978.where('alldeaths', are.below(100)).where('Gender_MF', 'Male').column('alldeaths'))\n",
    "\n",
    "print('After the outlier is dropped, the mean number of deaths caused by female-named hurricanes is equal to', round(mean_f_1979_2), 'deaths.')\n",
    "print('After the outlier is dropped, the mean number of deaths caused by male-named hurricanes is equal to', round(mean_m_1979_2), 'deaths.')"
   ]
  },
  {
   "cell_type": "markdown",
   "id": "d1351313",
   "metadata": {},
   "source": [
    "# Part 5: Conclusions\n",
    "Having investigated this dataset with numerical and visual summaries, do you think that the claim \"Female hurricanes are deadlier than male hurricanes\" is as clear-cut as the researchers state in the title of their paper?"
   ]
  },
  {
   "cell_type": "markdown",
   "id": "9aff58a3",
   "metadata": {},
   "source": [
    "**Question 5.1** If we use the median to represent a typical value for this data, are female-named hurricanes deadlier?  How does the choice of the measure of center change the conclusion?  \n"
   ]
  },
  {
   "cell_type": "markdown",
   "id": "efbb4973",
   "metadata": {
    "tags": [
     "otter_answer_cell"
    ]
   },
   "source": [
    "_Type your answer here, replacing this text._"
   ]
  },
  {
   "cell_type": "markdown",
   "id": "e0d0da39",
   "metadata": {
    "deletable": false,
    "editable": false
   },
   "source": [
    "<!-- END QUESTION -->\n",
    "\n",
    "**Question 5.2** How could the fact that all of the hurricanes had Female names from 1953 until 1979 bias the results?"
   ]
  },
  {
   "cell_type": "markdown",
   "id": "b255d726",
   "metadata": {
    "tags": [
     "otter_answer_cell"
    ]
   },
   "source": [
    "_Type your answer here, replacing this text._"
   ]
  },
  {
   "cell_type": "markdown",
   "id": "e16ee180",
   "metadata": {
    "deletable": false,
    "editable": false
   },
   "source": [
    "<!-- END QUESTION -->\n",
    "\n",
    "**CONGRATULATIONS!** You have finished this jupyter notebook assignment! \n",
    "Be sure to...\n",
    "\n",
    "- run all of the cells in this notebook, \n",
    "- check that you have answers for the open response questions,\n",
    "- choose **Save and Export Notebook As** and then **PDF** from the **File** menu,\n",
    "- submit the .pdf file on **canvas**."
   ]
  }
 ],
 "metadata": {
  "kernelspec": {
   "display_name": "base",
   "language": "python",
   "name": "python3"
  },
  "language_info": {
   "codemirror_mode": {
    "name": "ipython",
    "version": 3
   },
   "file_extension": ".py",
   "mimetype": "text/x-python",
   "name": "python",
   "nbconvert_exporter": "python",
   "pygments_lexer": "ipython3",
   "version": "3.12.7"
  },
  "otter": {
   "OK_FORMAT": true,
   "tests": {}
  }
 },
 "nbformat": 4,
 "nbformat_minor": 5
}
