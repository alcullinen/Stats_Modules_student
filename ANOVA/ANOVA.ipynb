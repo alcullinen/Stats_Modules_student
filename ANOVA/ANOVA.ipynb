{
 "cells": [
  {
   "cell_type": "code",
   "execution_count": null,
   "metadata": {
    "deletable": false,
    "editable": false
   },
   "outputs": [],
   "source": [
    "# Initialize Otter\n",
    "import otter\n",
    "grader = otter.Notebook(\"ANOVA.ipynb\")"
   ]
  },
  {
   "cell_type": "markdown",
   "metadata": {},
   "source": [
    "# ANOVA\n",
    "\n",
    "### Comparing Many Means\n",
    "\n",
    "The goal of this activity is to solve some problems using what we have learned about ANOVA.  First, let's start with a brief introduction to this notebook."
   ]
  },
  {
   "cell_type": "markdown",
   "metadata": {},
   "source": [
    "# 1. What is a Jupyter notebook?\n",
    "This webpage is called a Jupyter notebook. A notebook is a place to write code and view the results of that code.  It is also a place to share and write text.\n",
    "In a notebook, each rectangle containing text or code is called a *cell*.\n",
    "\n",
    "**Text cells** (like this one) can be edited by double-clicking on them. They're written in a simple format called [Markdown](http://daringfireball.net/projects/markdown/syntax) to add formatting and section headings.\n",
    "After you edit a text cell, click the \"run cell\" button at the top that looks like ▶| or hold down `shift` + `return` to confirm any changes. \n",
    "\n",
    "**Code cells** contain code in the Python 3 language. Running a code cell will execute all of the code it contains.\n",
    "To run the code in a code cell, first click on that cell to activate it.  It'll be highlighted with a little green or blue rectangle.  Next, either press ▶| or hold down `shift` + `return`."
   ]
  },
  {
   "cell_type": "markdown",
   "metadata": {},
   "source": [
    "**Activity 1:** This is a text cell. It is the cell type where we can type text that isn't code. Go ahead and double click in this cell and you will see that you can edit it. \n",
    "\n",
    "**Type something here:** ....\n"
   ]
  },
  {
   "cell_type": "markdown",
   "metadata": {},
   "source": [
    "**Activity 2:** Click on the code cell below and run the code:"
   ]
  },
  {
   "cell_type": "code",
   "execution_count": null,
   "metadata": {},
   "outputs": [],
   "source": [
    "#This cell is a code cell. It is where we can type code that can be executed.\n",
    "#The hashtag at the start of this line makes it so that this text is a comment not code. \n",
    "\n",
    "print(\"Hello, World! \\N{EARTH GLOBE ASIA-AUSTRALIA}!\")"
   ]
  },
  {
   "cell_type": "markdown",
   "metadata": {},
   "source": [
    "And this one:"
   ]
  },
  {
   "cell_type": "code",
   "execution_count": null,
   "metadata": {
    "read_only": true
   },
   "outputs": [],
   "source": [
    "# This coding cell imports some python libraries that we will be using throughout this notebook\n",
    "# Don't worry about what they are, just run this cell before running any other cells below this one\n",
    "\n",
    "from datascience import *\n",
    "import matplotlib.pyplot as plt\n",
    "import pandas as pd\n",
    "import statsmodels.api as sm\n",
    "from statsmodels.formula.api import ols\n",
    "import numpy as np\n",
    "import otter\n",
    "grader = otter.Notebook(\"ANOVA.ipynb\")\n",
    "\n",
    "%matplotlib inline\n",
    "import matplotlib.pyplot as plt\n",
    "plt.style.use('fivethirtyeight')"
   ]
  },
  {
   "cell_type": "markdown",
   "metadata": {},
   "source": [
    "# ANOVA Review\n",
    "\n",
    "We use ANOVA when we want to investigate the relationship between one numerical variable and one catergorical variable with many levels.  Running an ANOVA test allows us to see whether the variabitity in sample means from one level to the next is so large that it is unlikely due to random chance.\n",
    "\n",
    "The number of levels of the categorical variable determines the number of groups we will compare.  We also need to check conditions before running this test!\n",
    "\n",
    "1. The observations are independent within and across groups.\n",
    "2. The data within each group are nearly normal.\n",
    "3. The variability across the groups is about equal."
   ]
  },
  {
   "cell_type": "markdown",
   "metadata": {},
   "source": [
    "## Definitions\n",
    "Here is a brief review of definitions that will be usefull in this lab assignment.  To take a deeper dive into how these are derived, check out [this resource](https://www.openintro.org/go/?id=stat_extra_anova_calculations&referrer=os4_pdf).\n",
    "\n",
    "$ SSG $ - Sums of Squares between the Groups. This is a measure of how much each of the group means ($\\bar{x}_i$) differ from the overall mean ($\\bar{x}$).  \n",
    "\n",
    "$ df_G $ - Degrees of freedom for the Groups.  If there are $ k $ different groups, then $$ df_G = k-1$$\n",
    "\n",
    "$ MSG  $ - Mean Square between the Groups.  This measures the degree to which the means vary from group to group.  $$ MSG = \\frac{SSG}{df_G}$$\n",
    "\n",
    "$ SSE $ - Sum of Squared Errors is the sum of the squared differences between\n",
    "each sample’s observations with each respective sample mean.\n",
    "\n",
    "$ df_E $ - Degrees of freedom for the Errors.  If there are a total of $n$ observations and $k$ different groups, then $$df_E = n - k $$\n",
    "\n",
    "$ MSE  $ - Mean Square Error.  This measures the degree of variability *within* each group.  $$ MSE = \\frac{SSE}{df_E}$$\n",
    "\n",
    "$ SST $ - Sum of Squares Total.  Think of this as the total variability for all observations.  It is found by adding all the squared differences between each individual observation and the average for ALL outcomes. $$ SST = SSG + SSE $$\n",
    "\n",
    "$ df_T $ - Degrees of freedom Total. If there are $ n $ observations, then $$df_T = n-1$$\n",
    "\n",
    "$ F $ Statistic - When the null hypothesis is true, any differences among the sample means are just due to random chance, so MSG and MSE would be about equal and the $F$ Statistic is a value close to 1.  When MSG gets large relative to MSE, then the F statistic gets big and we have evidence in favor of the alternative, that at least one mean is different. $$F = \\frac{MSG}{MSE} $$\n"
   ]
  },
  {
   "cell_type": "markdown",
   "metadata": {},
   "source": [
    "# 2. Chicken Diets\n",
    "The `chickwts` dataset contains observations on two variables: which type of feed chicks were randomly assigned to, and their weight in grams.  ANOVA allows us to compare the mean weight for chicks fed either casein, horsebean, linseed, meat meal, soybean, or sunflower all at once.  \n",
    "\n",
    "**Question 2.1** Which of the following are the correct hypotheses for this hypothesis test?\n",
    "- Set **hypotheses2** to the correct number choice from the following list:\n",
    "    1. $H_o: \\mu_c = \\mu_h = \\mu_l = \\mu_m = \\mu_{soy} = \\mu_{sun}$ <br> $H_A:$ At least one pair of means is the same\n",
    "    2.  $H_o: \\mu_c = \\mu_h = \\mu_l = \\mu_m = \\mu_{soy} = \\mu_{sun}$ <br> $H_A:$ At least one of the means is different\n",
    "    3.  $H_o: \\mu_c = \\mu_h = \\mu_l = \\mu_m = \\mu_{soy} = \\mu_{sun}$ <br> $H_A:\\mu_c \\ne \\mu_h \\ne \\mu_l \\ne \\mu_m \\ne \\mu_{soy} \\ne \\mu_{sun}$\n",
    "    4. $H_o: \\mu_c \\ne \\mu_h \\ne \\mu_l \\ne \\mu_m \\ne \\mu_{soy} \\ne \\mu_{sun}$ <br> $H_A: $ At least one pair of means is the same."
   ]
  },
  {
   "cell_type": "code",
   "execution_count": null,
   "metadata": {
    "tags": [
     "otter_answer_cell"
    ]
   },
   "outputs": [],
   "source": [
    "#replace the ... with the correct answer\n",
    "hypotheses2 = ..."
   ]
  },
  {
   "cell_type": "markdown",
   "metadata": {
    "deletable": false,
    "editable": false
   },
   "source": [
    "Now you can check your work by running the grader check below. If it passes, great job, go on to the next section! \n",
    "\n",
    "If it fails, don't worry, you just need to go back and try again."
   ]
  },
  {
   "cell_type": "code",
   "execution_count": null,
   "metadata": {
    "deletable": false,
    "editable": false
   },
   "outputs": [],
   "source": [
    "grader.check(\"q21\")"
   ]
  },
  {
   "cell_type": "markdown",
   "metadata": {},
   "source": [
    "# Descriptive Statistics \n",
    "We start by looking at numerical and visual summaries of the data.  The next cell will load the data into the notebook and give us a view of the first 20 observations of the dataset.  Run the next cell."
   ]
  },
  {
   "cell_type": "code",
   "execution_count": null,
   "metadata": {},
   "outputs": [],
   "source": [
    "#Just run this cell\n",
    "chickwts = Table.read_table('chickwts.csv')\n",
    "chickwts.show(20)"
   ]
  },
  {
   "cell_type": "markdown",
   "metadata": {},
   "source": [
    "**Using some coding**, the cell below will organize the data into a table where each row is one of the types of feed (one of the groups) and each column is a summary statistic.  Run the cell to take a look."
   ]
  },
  {
   "cell_type": "code",
   "execution_count": null,
   "metadata": {},
   "outputs": [],
   "source": [
    "#Just run this cell to see the summary statistics for chick weight by feed type\n",
    "chickwts.group('feed').relabeled('count', 'sample size').join(\n",
    "    'feed', chickwts.group(('feed'), np.mean)).join(\n",
    "        'feed', chickwts.group(('feed'), np.std))\n"
   ]
  },
  {
   "cell_type": "markdown",
   "metadata": {},
   "source": [
    "**We should also visualize** the distribution of weight for each feed type.  Run the next cell to see side by side boxplots."
   ]
  },
  {
   "cell_type": "code",
   "execution_count": null,
   "metadata": {},
   "outputs": [],
   "source": [
    "#Let's look at side by side boxplots.  Run this cell\n",
    "c = pd.DataFrame({'casein':chickwts.where('feed', 'casein').column('weight')})\n",
    "h = pd.DataFrame({'horsebean':chickwts.where('feed', 'horsebean').column('weight')})\n",
    "l = pd.DataFrame({'linseed':chickwts.where('feed', 'linseed').column('weight')})\n",
    "m = pd.DataFrame({'meatmeal':chickwts.where('feed', 'meatmeal').column('weight')})\n",
    "s1 = pd.DataFrame({'soybean':chickwts.where('feed', 'soybean').column('weight')})\n",
    "s2 = pd.DataFrame({'sunflower':chickwts.where('feed', 'sunflower').column('weight')})\n",
    "df = pd.concat([c, h, l, m, s1, s2], axis = 1) \n",
    "df.boxplot()"
   ]
  },
  {
   "cell_type": "markdown",
   "metadata": {},
   "source": [
    "**Question 2.2:** Remember that there are three conditions we should check before doing ANOVA.  The first condition \"The observations are independent within and across groups.\" has likely been met since the chicks were randomly assigned to the feed types.  For the second two assumptions, we should take a look at the boxplots and the summary statistics.   Assign the variable `normal` to True if it the boxplots look relatively symmetric without too extreme skew. Otherwise, assign `normal` to False.  \n",
    "Also, assign `similar_var` to True if it appears that the variability of weight for each group is approximately equal.  Otherwise, assign `similar_var` to False.  "
   ]
  },
  {
   "cell_type": "code",
   "execution_count": null,
   "metadata": {
    "tags": [
     "otter_answer_cell"
    ]
   },
   "outputs": [],
   "source": [
    "normal = ...\n",
    "similar_var = ..."
   ]
  },
  {
   "cell_type": "code",
   "execution_count": null,
   "metadata": {
    "deletable": false,
    "editable": false
   },
   "outputs": [],
   "source": [
    "grader.check(\"q22\")"
   ]
  },
  {
   "cell_type": "code",
   "execution_count": null,
   "metadata": {},
   "outputs": [],
   "source": [
    "#Run this cell to see the ANOVA table\n",
    "model = ols('weight ~ feed', data=chickwts).fit()\n",
    "aov_table = sm.stats.anova_lm(model, typ=2)\n",
    "aov_table"
   ]
  },
  {
   "cell_type": "markdown",
   "metadata": {},
   "source": [
    "**Question 2.3:** What is the test statistic equal to for this hypothesis test?  Set `f_stat` equal to the correct value, rounded to 2 decimal places."
   ]
  },
  {
   "cell_type": "code",
   "execution_count": null,
   "metadata": {
    "tags": [
     "otter_answer_cell"
    ]
   },
   "outputs": [],
   "source": [
    "f_stat = ..."
   ]
  },
  {
   "cell_type": "code",
   "execution_count": null,
   "metadata": {
    "deletable": false,
    "editable": false
   },
   "outputs": [],
   "source": [
    "grader.check(\"q23\")"
   ]
  },
  {
   "cell_type": "markdown",
   "metadata": {},
   "source": [
    "**Question 2.4** What is the p-value for this hypothesis test? Set `p_val` to the correct value, rounded to 4 decimal places."
   ]
  },
  {
   "cell_type": "code",
   "execution_count": null,
   "metadata": {
    "tags": [
     "otter_answer_cell"
    ]
   },
   "outputs": [],
   "source": [
    "p_val = ..."
   ]
  },
  {
   "cell_type": "code",
   "execution_count": null,
   "metadata": {
    "deletable": false,
    "editable": false
   },
   "outputs": [],
   "source": [
    "grader.check(\"q24\")"
   ]
  },
  {
   "cell_type": "markdown",
   "metadata": {},
   "source": [
    "**Question 2.5:**\n",
    "Which of the following is the correct conclusion and interpretation of the hypothesis test?  Use an alpha level of significance of 0.01 and assign `conclusion2` to the correct choice.\n",
    "\n",
    "1. Since the p-value is less than $\\alpha$, we reject the null hypothesis.  The evidence supports the alternative hypothesis: that the average weight of chicks is different for each type of diet.  \n",
    "2. Since the p-value is less than $\\alpha$, we reject the null hypothesis and accept that the average weight of chicks is the same across all of the diets.\n",
    "3. Since the p-value is greater than or equal to $\\alpha$ we reject the null hypothesis.  The evidence supports the alternative hypothesis: at least one pair of means is the same.\n",
    "4. Since the p-value is less than $\\alpha$, we reject the null hypothesis. The evidence supports the alternative hypothesis: that the average weight of chicks is not the same across all of the diets.  At least one of the mean weights is different.\n"
   ]
  },
  {
   "cell_type": "code",
   "execution_count": null,
   "metadata": {
    "tags": [
     "otter_answer_cell"
    ]
   },
   "outputs": [],
   "source": [
    "conclusion2 = ..."
   ]
  },
  {
   "cell_type": "code",
   "execution_count": null,
   "metadata": {
    "deletable": false,
    "editable": false
   },
   "outputs": [],
   "source": [
    "grader.check(\"q25\")"
   ]
  },
  {
   "cell_type": "markdown",
   "metadata": {},
   "source": [
    "# 3. Teaching Methods\n",
    "A study compared  five different methods for teaching descriptive statistics. The  five methods were traditional lecture and discussion, programmed textbook instruction, programmed text with lectures, computer instruction, and computer instruction with lectures. 45 students were randomly assigned, 9 to each method. After completing the course, students took a 1-hour exam."
   ]
  },
  {
   "cell_type": "markdown",
   "metadata": {
    "vscode": {
     "languageId": "raw"
    }
   },
   "source": [
    "**Question 3.1** What are the hypotheses for evaluating if the average test physical activity levels are different for the different teaching methods?  Assign `hypotheses3` to the correct choice.\n",
    "\n",
    "Potential Hypotheses\n",
    "1. $H_o: \\mu_1 = \\mu_2 = \\mu_3 = \\mu_4 = \\mu_5 $<br> $H_A:$ At least one of the means is different\n",
    "2. $H_o: \\mu_1 = \\mu_2 = \\mu_3 = \\mu_4 = \\mu_5 $<br> $H_A:$ All of the means are different\n",
    "3.  $H_o: \\mu_1 = \\mu_2 = \\mu_3 = \\mu_4 = \\mu_5$ <br> $H_A:\\mu_1 \\ne \\mu_2 \\ne \\mu_3 \\ne \\mu_4 \\ne \\mu_5 $\n",
    "4. $H_o: \\mu_1 \\ne \\mu_2 \\ne \\mu_3 \\ne \\mu_4 \\ne \\mu_5 $ <br> $H_A: $ At least one pair of means is the same."
   ]
  },
  {
   "cell_type": "code",
   "execution_count": null,
   "metadata": {
    "tags": [
     "otter_answer_cell"
    ]
   },
   "outputs": [],
   "source": [
    "hypotheses3 = ..."
   ]
  },
  {
   "cell_type": "code",
   "execution_count": null,
   "metadata": {
    "deletable": false,
    "editable": false
   },
   "outputs": [],
   "source": [
    "grader.check(\"q31\")"
   ]
  },
  {
   "cell_type": "markdown",
   "metadata": {},
   "source": [
    "**Question 3.2** What are the degrees of freedom associated with the F-test for evaluating these hypotheses? Assign `dfg` and `dfe` to the correct numerical values."
   ]
  },
  {
   "cell_type": "code",
   "execution_count": null,
   "metadata": {
    "tags": [
     "otter_answer_cell"
    ]
   },
   "outputs": [],
   "source": [
    "dfg = ...\n",
    "dfe = ..."
   ]
  },
  {
   "cell_type": "code",
   "execution_count": null,
   "metadata": {
    "deletable": false,
    "editable": false
   },
   "outputs": [],
   "source": [
    "grader.check(\"q32\")"
   ]
  },
  {
   "cell_type": "markdown",
   "metadata": {},
   "source": [
    "**Question 3.3**  Suppose the p-value for this test is 0.0168. At the 0.01 level of significance, what is the correct conclusion?\n",
    "Assign `conclusion3` to the correct choice from the following list.\n",
    "\n",
    "Possible Conclusions\n",
    "\n",
    "1. Since the p-value is greater than or equal to $\\alpha$ we accept that all of the mean physical activity levels are the same.\n",
    "2. Since the p-value is less than $\\alpha$, all of the mean physical activity levels are different from one another\n",
    "3. Since the p-value is greater than or equal to $\\alpha$, we reject the null hypothesis. The evidence supports the alternative, that all of the mean physical activity levels are different.\n",
    "4. Since the p-value is greater than or equal to $\\alpha$, we do not have enough evidence to reject that all of the mean physical activity levels are the same\n",
    "5. Since the p-value is less than $\\alpha$, we reject the null hypothesis. The evidence supports the alternative, that at least one of the mean physical activity levels is different from the others\n"
   ]
  },
  {
   "cell_type": "code",
   "execution_count": null,
   "metadata": {
    "tags": [
     "otter_answer_cell"
    ]
   },
   "outputs": [],
   "source": [
    "conclusion3 = ..."
   ]
  },
  {
   "cell_type": "code",
   "execution_count": null,
   "metadata": {
    "deletable": false,
    "editable": false
   },
   "outputs": [],
   "source": [
    "grader.check(\"q33\")"
   ]
  },
  {
   "cell_type": "markdown",
   "metadata": {},
   "source": [
    "# 4. Coffee and Exercise\n",
    "Caffeine is the world's most widely used stimulant, with approximately 80% consumed in the form of coffee. Participants in a study investigating the relationship between coffee consumption and exercise were asked to report the number of hours they spent per week on moderate (e.g., brisk walking) and vigorous (e.g., strenuous sports and jogging) exercise. Based on these data the researchers estimated the total hours of metabolic equivalent tasks (MET) per week, a value always greater than 0. The table below gives summary statistics of MET for women in this study based on the amount of coffee consumed.\n",
    "\n",
    " \n",
    "| | 1 or less cup/week | 2-6 cups/week | 1 cup/day | 2-3 cups/day | 4 or more cups/day | Total |\n",
    "| --- | --- | --- | --- | --- | --- | --- |\n",
    "| Mean | 18.7 | 19.6 | 19.3 | 19.9 | 17.5 |  |\n",
    "| SD | 21.1 | 25.5 | 22.5| 22| 22 |  |\n",
    "| n | 12215 | 6617 | 17234 | 12290 | 2383 | 50739 |"
   ]
  },
  {
   "cell_type": "markdown",
   "metadata": {},
   "source": [
    "**Question 4.1** Assume that all of the conditions required for this hypothesis test are met.  What are the hypotheses for evaluating if the average physical activity level varies among the different levels of coffee consumption? Assign `hypotheses4` to the correct choice.\n",
    "\n",
    "Possible hypotheses: \n",
    "\n",
    "1. $H_o: $ All of the means are different <br> $H_A$: The average physical activity level is the same among the five different levels of coffee consumption\n",
    "2. $H_o: $ The average physical activity level is the same among the five different levels of coffee consumption <br> $H_A: $ All of the means are different.\n",
    "3. $H_o: $ At least one mean is different <br> $H_A$: The average physical activity level is the same among the five different levels of coffee consumption\n",
    "4. $H_o: $ The average physical activity level is the same among the five different levels of coffee consumption <br> $H_A: $ At least one mean is different"
   ]
  },
  {
   "cell_type": "code",
   "execution_count": null,
   "metadata": {
    "tags": [
     "otter_answer_cell"
    ]
   },
   "outputs": [],
   "source": [
    "hypotheses4 = ..."
   ]
  },
  {
   "cell_type": "code",
   "execution_count": null,
   "metadata": {
    "deletable": false,
    "editable": false
   },
   "outputs": [],
   "source": [
    "grader.check(\"q41\")"
   ]
  },
  {
   "cell_type": "markdown",
   "metadata": {},
   "source": [
    "# ANOVA Table for Coffee Data\n",
    "Below is part of the output associated with this test. In question 4.2, you will assign each of the relevant variables to the correct numerical values that are missing from the table. Scroll to the top of the lab for a refresher on how all of these are computed and realted to each other and *please round to two decimal places where necessary.*"
   ]
  },
  {
   "cell_type": "markdown",
   "metadata": {},
   "source": [
    "|  | df | Sum Sq | Mean Sq | F Value | Pr(>F) |\n",
    "| --- | --- | --- | --- | --- | --- |\n",
    "| coffee | *dfG* | *SSG* | *MSG* | *F* | 0.0003 |\n",
    "| Residual | *dfE* | 25564819 | *MSE* |  |  |\n",
    "| total | *dfT* | 25575327 |  "
   ]
  },
  {
   "cell_type": "markdown",
   "metadata": {},
   "source": [
    "**Question 4.2**  Use Python to compute the code below by assigning each relevant variable to the correct numerical value."
   ]
  },
  {
   "cell_type": "code",
   "execution_count": null,
   "metadata": {
    "tags": [
     "otter_answer_cell"
    ]
   },
   "outputs": [],
   "source": [
    "#Enter numbers with no commas. Please round to two decimal places where necessary.\n",
    "dfG = ...\n",
    "dfE = ...\n",
    "dfT = ...\n",
    "ssG = ...\n",
    "msG = ...\n",
    "msE = ...\n",
    "f = ...\n",
    "print('The F Statistic is equal to', f)"
   ]
  },
  {
   "cell_type": "code",
   "execution_count": null,
   "metadata": {
    "deletable": false,
    "editable": false
   },
   "outputs": [],
   "source": [
    "grader.check(\"q42\")"
   ]
  },
  {
   "cell_type": "markdown",
   "metadata": {},
   "source": [
    "**Question 4.3**  Look back at the ANOVA table.  Assign `pval` to the numerical value for the p-value in the software output.  Do not round."
   ]
  },
  {
   "cell_type": "code",
   "execution_count": null,
   "metadata": {
    "tags": [
     "otter_answer_cell"
    ]
   },
   "outputs": [],
   "source": [
    "pval = ..."
   ]
  },
  {
   "cell_type": "code",
   "execution_count": null,
   "metadata": {
    "deletable": false,
    "editable": false
   },
   "outputs": [],
   "source": [
    "grader.check(\"q43\")"
   ]
  },
  {
   "cell_type": "markdown",
   "metadata": {},
   "source": [
    "**Question 4.4**  What is the correct conclusion for this hypothesis test, using an $\\alpha = 0.01$ level of significance? Assign `conclusion4` to the correct choice.\n",
    "\n",
    "Possible conclusions:\n",
    "\n",
    "1. Since the p-value is greater than or equal to $\\alpha$ we accept that all of the mean physical activity levels are the same.\n",
    "2. Since the p-value is less than $\\alpha$, all of the mean physical activity levels are different from one another\n",
    "3. Since the p-value is greater than or equal to $\\alpha$, we reject the null hypothesis. The evidence supports the alternative, that all of the mean physical activity levels are different.\n",
    "4. Since the p-value is greater than or equal to $\\alpha$, we do not have enough evidence to reject that all of the mean physical activity levels are the same\n",
    "5. Since the p-value is less than $\\alpha$, we reject the null hypothesis. The evidence supports the alternative, that at least one of the mean physical activity levels is different from the others"
   ]
  },
  {
   "cell_type": "code",
   "execution_count": null,
   "metadata": {
    "tags": [
     "otter_answer_cell"
    ]
   },
   "outputs": [],
   "source": [
    "conclusion4 = ..."
   ]
  },
  {
   "cell_type": "code",
   "execution_count": null,
   "metadata": {
    "deletable": false,
    "editable": false
   },
   "outputs": [],
   "source": [
    "grader.check(\"q44\")"
   ]
  },
  {
   "cell_type": "markdown",
   "metadata": {},
   "source": [
    "**CONGRATULATIONS!** You just finished this jupyter notebook assignment! \n",
    "\n",
    "We hope you enjoyed this format and the chance to play with computer programming!\n",
    "Be sure to...\n",
    "\n",
    "- run all of the tests and verify that they all pass, \n",
    "- choose **Download as PDF via LaTeX** from the **File** menu,\n",
    "- submit the .pdf file on **canvas**."
   ]
  }
 ],
 "metadata": {
  "anaconda-cloud": {},
  "kernelspec": {
   "display_name": "base",
   "language": "python",
   "name": "python3"
  },
  "language_info": {
   "codemirror_mode": {
    "name": "ipython",
    "version": 3
   },
   "file_extension": ".py",
   "mimetype": "text/x-python",
   "name": "python",
   "nbconvert_exporter": "python",
   "pygments_lexer": "ipython3",
   "version": "3.12.7"
  },
  "otter": {
   "OK_FORMAT": true,
   "tests": {
    "q21": {
     "name": "q21",
     "points": null,
     "suites": [
      {
       "cases": [
        {
         "code": ">>> hypotheses2 == 2\nTrue",
         "hidden": false,
         "locked": false
        }
       ],
       "scored": true,
       "setup": "",
       "teardown": "",
       "type": "doctest"
      }
     ]
    },
    "q22": {
     "name": "q22",
     "points": null,
     "suites": [
      {
       "cases": [
        {
         "code": ">>> normal == True\nTrue",
         "hidden": false,
         "locked": false
        },
        {
         "code": ">>> similar_var == False\nTrue",
         "hidden": false,
         "locked": false
        }
       ],
       "scored": true,
       "setup": "",
       "teardown": "",
       "type": "doctest"
      }
     ]
    },
    "q23": {
     "name": "q23",
     "points": null,
     "suites": [
      {
       "cases": [
        {
         "code": ">>> f_stat == 15.36\nTrue",
         "hidden": false,
         "locked": false
        }
       ],
       "scored": true,
       "setup": "",
       "teardown": "",
       "type": "doctest"
      }
     ]
    },
    "q24": {
     "name": "q24",
     "points": null,
     "suites": [
      {
       "cases": [
        {
         "code": ">>> p_val == 0.0\nTrue",
         "hidden": false,
         "locked": false
        }
       ],
       "scored": true,
       "setup": "",
       "teardown": "",
       "type": "doctest"
      }
     ]
    },
    "q25": {
     "name": "q25",
     "points": null,
     "suites": [
      {
       "cases": [
        {
         "code": ">>> conclusion2 == 4\nTrue",
         "hidden": false,
         "locked": false
        }
       ],
       "scored": true,
       "setup": "",
       "teardown": "",
       "type": "doctest"
      }
     ]
    },
    "q31": {
     "name": "q31",
     "points": null,
     "suites": [
      {
       "cases": [
        {
         "code": ">>> hypotheses3 == 1\nTrue",
         "hidden": false,
         "locked": false
        }
       ],
       "scored": true,
       "setup": "",
       "teardown": "",
       "type": "doctest"
      }
     ]
    },
    "q32": {
     "name": "q32",
     "points": null,
     "suites": [
      {
       "cases": [
        {
         "code": ">>> dfg == 4\nTrue",
         "hidden": false,
         "locked": false
        },
        {
         "code": ">>> dfe == 40\nTrue",
         "hidden": false,
         "locked": false
        }
       ],
       "scored": true,
       "setup": "",
       "teardown": "",
       "type": "doctest"
      }
     ]
    },
    "q33": {
     "name": "q33",
     "points": null,
     "suites": [
      {
       "cases": [
        {
         "code": ">>> conclusion3 == 4\nTrue",
         "hidden": false,
         "locked": false
        }
       ],
       "scored": true,
       "setup": "",
       "teardown": "",
       "type": "doctest"
      }
     ]
    },
    "q41": {
     "name": "q41",
     "points": null,
     "suites": [
      {
       "cases": [
        {
         "code": ">>> hypotheses4 == 4\nTrue",
         "hidden": false,
         "locked": false
        }
       ],
       "scored": true,
       "setup": "",
       "teardown": "",
       "type": "doctest"
      }
     ]
    },
    "q42": {
     "name": "q42",
     "points": null,
     "suites": [
      {
       "cases": [
        {
         "code": ">>> dfG == 4\nTrue",
         "hidden": false,
         "locked": false
        },
        {
         "code": ">>> dfE == 50734\nTrue",
         "hidden": false,
         "locked": false
        },
        {
         "code": ">>> dfT == dfG + dfE\nTrue",
         "hidden": false,
         "locked": false
        },
        {
         "code": ">>> ssG == 25575327 - 25564819\nTrue",
         "hidden": false,
         "locked": false
        },
        {
         "code": ">>> msG == 10508 / 4\nTrue",
         "hidden": false,
         "locked": false
        },
        {
         "code": ">>> msE == round(25564819 / 50734, 2)\nTrue",
         "hidden": false,
         "locked": false
        },
        {
         "code": ">>> f == 5.21\nTrue",
         "hidden": false,
         "locked": false
        }
       ],
       "scored": true,
       "setup": "",
       "teardown": "",
       "type": "doctest"
      }
     ]
    },
    "q43": {
     "name": "q43",
     "points": null,
     "suites": [
      {
       "cases": [
        {
         "code": ">>> pval == 0.0003\nTrue",
         "hidden": false,
         "locked": false
        }
       ],
       "scored": true,
       "setup": "",
       "teardown": "",
       "type": "doctest"
      }
     ]
    },
    "q44": {
     "name": "q44",
     "points": null,
     "suites": [
      {
       "cases": [
        {
         "code": ">>> conclusion4 == 5\nTrue",
         "hidden": false,
         "locked": false
        }
       ],
       "scored": true,
       "setup": "",
       "teardown": "",
       "type": "doctest"
      }
     ]
    }
   }
  }
 },
 "nbformat": 4,
 "nbformat_minor": 2
}
